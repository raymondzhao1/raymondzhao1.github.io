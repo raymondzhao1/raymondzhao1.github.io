{
  "cells": [
    {
      "cell_type": "markdown",
      "metadata": {
        "id": "ufV3LYI1Ryrr"
      },
      "source": [
        "# **Iteration and Number Manipulation**"
      ]
    },
    {
      "cell_type": "markdown",
      "metadata": {
        "id": "22s0KbGYZbSe"
      },
      "source": [
        "## Q1: Remove Digit"
      ]
    },
    {
      "cell_type": "code",
      "execution_count": 13,
      "metadata": {
        "id": "6CnQjIsAWJHy"
      },
      "outputs": [],
      "source": [
        "def remove(n, target):\n",
        "  \"\"\"\n",
        "  Remove all occurrences of target in n.\n",
        "  Assume n < 10.\n",
        "  Assume removing all digits returns 0.\n",
        "\n",
        "  >>> remove(111111, 1)\n",
        "  0\n",
        "  >>> remove(12351, 1)\n",
        "  235\n",
        "  >>> remove(2093, 5)\n",
        "  2093\n",
        "  \"\"\"\n",
        "  tens = 0\n",
        "  res = 0 # Common variable name for 'result'.\n",
        "  while n:\n",
        "    curr = n % 10 # Common variable name for 'current'.\n",
        "    if curr != target:\n",
        "      res += curr * 10 ** tens\n",
        "      tens += 1\n",
        "    n //= 10\n",
        "  return res"
      ]
    },
    {
      "cell_type": "markdown",
      "metadata": {
        "id": "4P-UuVvWR21L"
      },
      "source": [
        "## Q2: Digit Swap"
      ]
    },
    {
      "cell_type": "code",
      "execution_count": null,
      "metadata": {
        "id": "GVf3F_YJRw_O"
      },
      "outputs": [],
      "source": [
        "def swap(n, a, b):\n",
        "  \"\"\"\n",
        "  Swap the a'th and b'th digit of n from the left.\n",
        "  Assume 0 <= a < b <= num_dig(n).\n",
        "\n",
        "  In this example, we swap..\n",
        "    - First digit from left -> 1\n",
        "    - Third digit from left -> 2\n",
        "  Result = 20134\n",
        "\n",
        "  >>> swap(10234, 1, 3)\n",
        "  20134\n",
        "  \"\"\"\n",
        "  def num_dig(n):\n",
        "    \"\"\"\n",
        "    Return the number of digits in a number.\n",
        "    >>> num_dig(10234)\n",
        "    5\n",
        "    \"\"\"\n",
        "    count = 0\n",
        "    while n:\n",
        "      count += 1\n",
        "      n //= 10\n",
        "    return count\n",
        "\n",
        "  len_dig = num_dig(n)\n",
        "  # Left index & right index (from the right)\n",
        "  li, ri = len_dig - a, len_dig - b\n",
        "\n",
        "  pos = 0\n",
        "\n",
        "  # We iterate through n twice, so save a copy.\n",
        "  n_copy = n\n",
        "\n",
        "  # Store digits that need to be swapped\n",
        "  while n:\n",
        "    curr = ______\n",
        "    if pos ______:\n",
        "      new_l = curr\n",
        "    if pos ______:\n",
        "      new_r = curr\n",
        "    pos += 1\n",
        "    ___________\n",
        "\n",
        "  # Reconstruct new digit using stored values.\n",
        "  res, tens = 0, 0\n",
        "  while n_copy:\n",
        "    curr = __________\n",
        "    if tens == ri:\n",
        "      curr = ______\n",
        "    if tens == li:\n",
        "      curr = ______\n",
        "    res += ______________\n",
        "    tens += 1\n",
        "    ___________\n",
        "  return res"
      ]
    },
    {
      "cell_type": "markdown",
      "metadata": {
        "id": "YRJ118YKTv9k"
      },
      "source": [
        "## Q2: Calindrome"
      ]
    },
    {
      "cell_type": "code",
      "execution_count": 3,
      "metadata": {
        "id": "-WMsX7RvTwNX"
      },
      "outputs": [],
      "source": [
        "def calindrome(n):\n",
        "  \"\"\"\n",
        "  Return whether a number is calindromic.\n",
        "  In ASCII, the letters C, A, and L are represented by the numbers 67, 65, and 76 respectively.\n",
        "  A number is calindromic if it contains these three letters (represented as numbers) in this order:\n",
        "    C, ..., A, ..., L, ..., L, ..., A, ..., C\n",
        "\n",
        "  There can be other numbers between these letters and these letters can also\n",
        "  be repeated multiple times--as long as all instances of CAL precede all\n",
        "  instances of LAC and the calindrome is symmetric.\n",
        "\n",
        "  For example the most simple calindromic number would be 676576766567 (CALLAC).\n",
        "  676576766567000000 is still a calindrome, despite the additional zeros.\n",
        "  So is 676576676576766567766567 (CALCALLACLAC), despite the zeros and the repetition of CAL and LAC.\n",
        "\n",
        "  On the other hand, CALLACCALLAC is not calindromic, since all instances of CAL must precede\n",
        "  all instances of LAC.\n",
        "  \"\"\"\n",
        "  def next_letter(letter, direction):\n",
        "    \"\"\"\n",
        "    letter: ASCII representation of either the letter C, A, or L.\n",
        "    direction = 1: returns the letter after (to the right of) the input letter in C-A-L sequence.\n",
        "    direction = -1 returns the letter before (to the left of) the input letter in C-A-L sequence.\n",
        "\n",
        "    'A', or 65, is returned because it comes after 'C'.\n",
        "    >>> next_letter(67, 1)\n",
        "    65\n",
        "    'L', or 76, is returned since it comes before 'C'.\n",
        "    >>> next_letter(67, -1)\n",
        "    76\n",
        "    \"\"\"\n",
        "    # You'll understand how this function works in a few weeks!\n",
        "    return [arr[direction] for arr in [[67, 65, 76], [65, 76, 67], [76, 67, 65]] if arr[0] == letter][0]\n",
        "\n",
        "  C, A, L = 67, 65, 76\n",
        "  looking_for = C\n",
        "  last = -1 # Arbitrary value\n",
        "  count = 0 # Determines symmetry\n",
        "  dir = 1\n",
        "  while n:\n",
        "    curr = n % 100\n",
        "    # If we find the next digit in the CAL/LAC sequence.\n",
        "    # or we need to swap direction.\n",
        "    if ________________ or last == L and curr == L:\n",
        "      if last == L and curr == L: # Swap direction\n",
        "        dir *= -1\n",
        "      looking_for = _________________\n",
        "      count += dir\n",
        "      n //= ____\n",
        "      last = ____\n",
        "    # Else, continue iteration.\n",
        "    else:\n",
        "      n //= 10\n",
        "  return _____________"
      ]
    }
  ],
  "metadata": {
    "colab": {
      "provenance": []
    },
    "kernelspec": {
      "display_name": "Python 3",
      "name": "python3"
    },
    "language_info": {
      "name": "python"
    }
  },
  "nbformat": 4,
  "nbformat_minor": 0
}
